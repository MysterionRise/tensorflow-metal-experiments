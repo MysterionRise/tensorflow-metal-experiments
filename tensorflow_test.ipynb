{
 "cells": [
  {
   "cell_type": "code",
   "execution_count": 2,
   "id": "ffdd2ac4-4b56-4801-a444-d2aff42b72d2",
   "metadata": {},
   "outputs": [
    {
     "name": "stdout",
     "output_type": "stream",
     "text": [
      "Model: \"sequential_1\"\n",
      "_________________________________________________________________\n",
      " Layer (type)                Output Shape              Param #   \n",
      "=================================================================\n",
      " conv2d_3 (Conv2D)           (None, 26, 26, 32)        320       \n",
      "                                                                 \n",
      " max_pooling2d_2 (MaxPooling  (None, 13, 13, 32)       0         \n",
      " 2D)                                                             \n",
      "                                                                 \n",
      " conv2d_4 (Conv2D)           (None, 11, 11, 64)        18496     \n",
      "                                                                 \n",
      " max_pooling2d_3 (MaxPooling  (None, 5, 5, 64)         0         \n",
      " 2D)                                                             \n",
      "                                                                 \n",
      " conv2d_5 (Conv2D)           (None, 3, 3, 64)          36928     \n",
      "                                                                 \n",
      " flatten_1 (Flatten)         (None, 576)               0         \n",
      "                                                                 \n",
      " dense_2 (Dense)             (None, 64)                36928     \n",
      "                                                                 \n",
      " dense_3 (Dense)             (None, 10)                650       \n",
      "                                                                 \n",
      "=================================================================\n",
      "Total params: 93,322\n",
      "Trainable params: 93,322\n",
      "Non-trainable params: 0\n",
      "_________________________________________________________________\n"
     ]
    }
   ],
   "source": [
    "from tensorflow.keras import layers\n",
    "from tensorflow.keras import models\n",
    "model = models.Sequential()\n",
    "model.add(layers.Conv2D(32, (3, 3), activation='relu', input_shape=(28, 28, 1)))\n",
    "model.add(layers.MaxPooling2D((2, 2)))\n",
    "model.add(layers.Conv2D(64, (3, 3), activation='relu'))\n",
    "model.add(layers.MaxPooling2D((2, 2)))\n",
    "model.add(layers.Conv2D(64, (3, 3), activation='relu'))\n",
    "model.add(layers.Flatten())\n",
    "model.add(layers.Dense(64, activation='relu'))\n",
    "model.add(layers.Dense(10, activation='softmax'))\n",
    "model.summary()"
   ]
  },
  {
   "cell_type": "code",
   "execution_count": 3,
   "id": "682ef519-6708-452f-a538-c9ed257697b3",
   "metadata": {},
   "outputs": [
    {
     "name": "stdout",
     "output_type": "stream",
     "text": [
      "Epoch 1/10\n",
      "938/938 [==============================] - 20s 21ms/step - loss: 0.1748 - accuracy: 0.9452\n",
      "Epoch 2/10\n",
      "938/938 [==============================] - 23s 25ms/step - loss: 0.0462 - accuracy: 0.9861\n",
      "Epoch 3/10\n",
      "938/938 [==============================] - 24s 26ms/step - loss: 0.0313 - accuracy: 0.9905\n",
      "Epoch 4/10\n",
      "938/938 [==============================] - 24s 26ms/step - loss: 0.0244 - accuracy: 0.9923\n",
      "Epoch 5/10\n",
      "938/938 [==============================] - 23s 25ms/step - loss: 0.0189 - accuracy: 0.9943\n",
      "Epoch 6/10\n",
      "938/938 [==============================] - 23s 25ms/step - loss: 0.0154 - accuracy: 0.9955\n",
      "Epoch 7/10\n",
      "938/938 [==============================] - 22s 23ms/step - loss: 0.0124 - accuracy: 0.9966\n",
      "Epoch 8/10\n",
      "938/938 [==============================] - 22s 24ms/step - loss: 0.0104 - accuracy: 0.9970\n",
      "Epoch 9/10\n",
      "938/938 [==============================] - 23s 25ms/step - loss: 0.0098 - accuracy: 0.9972\n",
      "Epoch 10/10\n",
      "938/938 [==============================] - 20s 21ms/step - loss: 0.0078 - accuracy: 0.9975\n",
      "313/313 [==============================] - 3s 8ms/step - loss: 0.0370 - accuracy: 0.9914\n",
      "Fitting took: 228.13535118103027\n"
     ]
    },
    {
     "data": {
      "text/plain": [
       "0.9914000034332275"
      ]
     },
     "execution_count": 3,
     "metadata": {},
     "output_type": "execute_result"
    }
   ],
   "source": [
    "from tensorflow.keras.datasets import mnist\n",
    "from tensorflow.keras.utils import to_categorical\n",
    "import time\n",
    "(train_images, train_labels), (test_images, test_labels) = mnist.load_data()\n",
    "train_images = train_images.reshape((60000, 28, 28, 1))\n",
    "train_images = train_images.astype('float32') / 255\n",
    "test_images = test_images.reshape((10000, 28, 28, 1))\n",
    "test_images = test_images.astype('float32') / 255\n",
    "train_labels = to_categorical(train_labels)\n",
    "test_labels = to_categorical(test_labels)\n",
    "start = time.time()\n",
    "model.compile(optimizer='rmsprop',\n",
    "              loss='categorical_crossentropy',\n",
    "              metrics=['accuracy'])\n",
    "model.fit(train_images, train_labels, epochs=10, batch_size=64)\n",
    "test_loss, test_acc = model.evaluate(test_images, test_labels)\n",
    "print(\"Fitting took: {}\".format(time.time() - start))\n",
    "test_acc"
   ]
  },
  {
   "cell_type": "code",
   "execution_count": null,
   "id": "6cbcf422-412c-4e45-acd0-8ecfdb45a794",
   "metadata": {},
   "outputs": [],
   "source": []
  }
 ],
 "metadata": {
  "kernelspec": {
   "display_name": "Python 3 (ipykernel)",
   "language": "python",
   "name": "python3"
  },
  "language_info": {
   "codemirror_mode": {
    "name": "ipython",
    "version": 3
   },
   "file_extension": ".py",
   "mimetype": "text/x-python",
   "name": "python",
   "nbconvert_exporter": "python",
   "pygments_lexer": "ipython3",
   "version": "3.9.5"
  }
 },
 "nbformat": 4,
 "nbformat_minor": 5
}
